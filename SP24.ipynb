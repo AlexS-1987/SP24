{
  "nbformat": 4,
  "nbformat_minor": 0,
  "metadata": {
    "colab": {
      "provenance": []
    },
    "kernelspec": {
      "name": "python3",
      "display_name": "Python 3"
    },
    "language_info": {
      "name": "python"
    }
  },
  "cells": [
    {
      "cell_type": "code",
      "execution_count": 1,
      "metadata": {
        "id": "3DE6ii2-OZJf"
      },
      "outputs": [],
      "source": [
        "def interpolate(n,h,dict_):\n",
        "  import numpy as np\n",
        "  from scipy import interpolate\n",
        "  dict_keys = dict_.keys()-{'h'}\n",
        "  if n < min(dict_keys):\n",
        "    res_list = dict_[min(dict_.keys())]\n",
        "  elif n > max(dict_keys):\n",
        "    res_list = dict_[max(dict_keys)]\n",
        "  elif n in dict_.keys():\n",
        "    res_list = dict_[n]\n",
        "  else:\n",
        "    min_ = max(filter(lambda x: x < n, dict_keys))\n",
        "    max_ = min(filter(lambda x: x > n, dict_keys))\n",
        "    w = abs((np.array(dict_[min_])-np.array(dict_[max_]))/(min_-max_))\n",
        "    res_list = np.array(dict_[min_])+w*(min_-n)\n",
        "    if h < 0:\n",
        "      h=0\n",
        "    elif h>40:\n",
        "      h=40\n",
        "    else:\n",
        "      res = float(interpolate.interp1d(dict_['h'], list(res_list))(h))\n",
        "    return res"
      ]
    }
  ]
}